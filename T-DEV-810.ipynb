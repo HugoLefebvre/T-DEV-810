{
 "cells": [
  {
   "cell_type": "code",
   "execution_count": null,
   "metadata": {},
   "outputs": [],
   "source": [
    "import numpy as np\n",
    "import os\n",
    "from numpy import asarray\n",
    "from PIL import Image\n",
    "from sklearn.ensemble import RandomForestClassifier\n",
    "\n",
    "from sklearn import metrics\n",
    "from sklearn import tree\n",
    "from sklearn.model_selection import train_test_split\n",
    "from sklearn.metrics import accuracy_score"
   ]
  },
  {
   "cell_type": "code",
   "execution_count": null,
   "metadata": {},
   "outputs": [],
   "source": [
    "#On définit les dossiers qui seront utilisés pour les datasets\n",
    "mainDIR = './chest_xray/'\n",
    "\n",
    "train_folder= mainDIR + '/train/'\n",
    "val_folder = mainDIR + '/val/'\n",
    "test_folder = mainDIR + '/test/'"
   ]
  },
  {
   "cell_type": "code",
   "execution_count": null,
   "metadata": {},
   "outputs": [],
   "source": [
    "def getImageValue(img):\n",
    "    #Cette fonction prend le tableau de valeur de l'image et le reformate pour qu'il puisse être lu par le modèle de tree\n",
    "    return_tab = []\n",
    "    for line_pixel in img:\n",
    "        for pixel in line_pixel:\n",
    "            return_tab.append(pixel)\n",
    "    return return_tab"
   ]
  },
  {
   "cell_type": "code",
   "execution_count": null,
   "metadata": {},
   "outputs": [],
   "source": [
    "def loadDataset(folder):\n",
    "    #Cette fonction génère un tableau contenant toutes les nuances de gris des images, pixel par pixel\n",
    "    x_array = []\n",
    "    y_array = []\n",
    "    listDir = os.listdir(folder)\n",
    "    for dir in listDir:\n",
    "        if dir[0] != \".\":\n",
    "            #On s'assure que le dossier ciblé ne commence pas par un point\n",
    "            for file in os.listdir(folder + dir):\n",
    "                #Boucle sur toutes les images d'un dossier\n",
    "                if(file[0] != \".\"):\n",
    "                    #On s'assure que le fichier ciblé ne commence pas par un point\n",
    "                    img = Image.open(folder + dir + '/' + file).convert('L') #Charge l'image du fichier ciblé\n",
    "                    #Le convert('L') sert à convertir l'image en gris pour se baser sur les nuances de gris de l'image\n",
    "\n",
    "                    resize_img = img.resize((50, 50)) #On resize l'image pour que toutes les images aient le même traitement\n",
    "                    img = asarray(resize_img)\n",
    "                    img_array = getImageValue(img)\n",
    "\n",
    "                    #x_array est le tableau qui contiendra tous les tableaux de pixels pour chaque image\n",
    "                    x_array.append(img_array)\n",
    "                    #y_array est le tableau qui contiendra tous les labels qui serviront à déterminer si les tableaux seront issus d'une pneumonie ou non\n",
    "                    y_array.append(dir)\n",
    "\n",
    "    return {'samples': x_array, 'labels': y_array}\n"
   ]
  },
  {
   "cell_type": "code",
   "execution_count": null,
   "metadata": {},
   "outputs": [],
   "source": [
    "#Ici, on charge les tableaux pour les préparer à être utilisés\n",
    "train = loadDataset(train_folder)\n",
    "test = loadDataset(test_folder)\n",
    "val = loadDataset(val_folder)"
   ]
  },
  {
   "cell_type": "code",
   "execution_count": null,
   "metadata": {},
   "outputs": [],
   "source": [
    "clf = RandomForestClassifier() #Génère la classe du modèle de forêt utilisé\n",
    "clf.fit(train[\"samples\"], train[\"labels\"]) #On donne les samples et les labels à l'arbre qui se chargera de faire le travail à partir de ces données"
   ]
  },
  {
   "cell_type": "code",
   "execution_count": null,
   "metadata": {},
   "outputs": [],
   "source": [
    "predicted = clf.predict(test[\"samples\"]) #clf.predict sert à prédire des données à partir de ce qu'on vient de lui donner via le clf.fit\n",
    "\n",
    "print(accuracy_score(test[\"labels\"], predicted)) #affiche le % de réussite du clf.predict"
   ]
  }
 ],
 "metadata": {
  "kernelspec": {
   "display_name": "Python 3",
   "language": "python",
   "name": "python3"
  },
  "language_info": {
   "codemirror_mode": {
    "name": "ipython",
    "version": 3
   },
   "file_extension": ".py",
   "mimetype": "text/x-python",
   "name": "python",
   "nbconvert_exporter": "python",
   "pygments_lexer": "ipython3",
   "version": "3.6.9"
  }
 },
 "nbformat": 4,
 "nbformat_minor": 2
}
